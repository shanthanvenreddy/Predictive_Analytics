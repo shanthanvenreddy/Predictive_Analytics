{
 "cells": [
  {
   "cell_type": "code",
   "execution_count": 1,
   "metadata": {
    "colab": {},
    "colab_type": "code",
    "id": "8YRSZ6kK3Qer"
   },
   "outputs": [],
   "source": [
    "import findspark\n",
    "findspark.init('/home/cse587/spark-2.4.0-bin-hadoop2.7')\n",
    "import pyspark\n"
   ]
  },
  {
   "cell_type": "code",
   "execution_count": 2,
   "metadata": {
    "colab": {},
    "colab_type": "code",
    "id": "HcyQXXIeYKih",
    "outputId": "cf459b61-83aa-4fc5-aa5e-c4229d83b1f9"
   },
   "outputs": [
    {
     "name": "stdout",
     "output_type": "stream",
     "text": [
      " dic487-587.zip\t\t\t 'Part1 (1).ipynb'\t  task_1.ipynb\r\n",
      " DIC_Task_without_numbers.ipynb  'Part2 (1).ipynb'\t  test.csv\r\n",
      " genre_lables.csv\t\t  Part3.ipynb\t\t  train.csv\r\n",
      " mapping.csv\t\t\t  predictions_part2.csv\r\n",
      " p1_1.csv\t\t\t  sample.csv\r\n"
     ]
    }
   ],
   "source": [
    "from pyspark.sql import SparkSession\n",
    "spark = SparkSession.builder.master(\"local[*]\").getOrCreate()\n",
    "!ls"
   ]
  },
  {
   "cell_type": "code",
   "execution_count": 3,
   "metadata": {
    "colab": {},
    "colab_type": "code",
    "id": "HoHi4QdC5apa"
   },
   "outputs": [],
   "source": [
    "import numpy as np\n",
    "import pandas as pd\n",
    "from ast import literal_eval \n",
    "import pyspark.sql.functions as F\n",
    "from pyspark.sql.functions import udf\n",
    "from pyspark.sql.types import StringType, IntegerType, ArrayType\n",
    "from pyspark.ml import Pipeline\n",
    "from pyspark.ml.feature import StopWordsRemover\n",
    "from pyspark.ml.feature import Tokenizer, RegexTokenizer\n",
    "from pyspark.ml.feature import Word2Vec\n",
    "from pyspark.sql.functions import regexp_replace,col,array_contains,explode\n",
    "from pyspark.sql.functions import split\n",
    "from pyspark.sql.functions import monotonically_increasing_id\n",
    "from functools import reduce\n",
    "from pyspark.sql.functions import concat_ws\n",
    "from pyspark.ml.classification import LogisticRegression"
   ]
  },
  {
   "cell_type": "code",
   "execution_count": 4,
   "metadata": {
    "colab": {},
    "colab_type": "code",
    "id": "76Y4Nnuc6OK5"
   },
   "outputs": [],
   "source": [
    "pd_dataFrame = pd.read_csv(r'train.csv')\n",
    "data_spark_dataFrame = spark.createDataFrame(pd_dataFrame)\n",
    "\n",
    "pd_dataFrame['genre']= pd_dataFrame['genre'].apply(literal_eval)\n",
    "all_genre = pd_dataFrame['genre'].to_list()"
   ]
  },
  {
   "cell_type": "code",
   "execution_count": 5,
   "metadata": {
    "colab": {},
    "colab_type": "code",
    "id": "aferIQtcYoRe"
   },
   "outputs": [],
   "source": [
    "\n",
    "labels =['Drama','Comedy','Romance Film','Thriller','Action','World cinema','Crime Fiction','Horror','Black-and-white','Indie','Action/Adventure','Adventure','Family Film','Short Film','Romantic drama','Animation','Musical','Science Fiction','Mystery','Romantic comedy']\n",
    "mat = np.zeros((len(pd_dataFrame),len(labels)))\n",
    "for i,genre in enumerate(all_genre):\n",
    "  for j,g in enumerate(genre):\n",
    "    for k,label in enumerate(labels):\n",
    "        if label==g:\n",
    "          mat[i][k] = 1\n",
    "          \n",
    "\n",
    "\n"
   ]
  },
  {
   "cell_type": "code",
   "execution_count": 6,
   "metadata": {
    "colab": {},
    "colab_type": "code",
    "id": "QyDZW5Q2YzBJ"
   },
   "outputs": [],
   "source": [
    "labels = \"Drama , Comedy , Romance Film , Thriller , Action , World cinema , Crime Fiction , Horror , Black-and-white , Indie , Action/Adventure , Adventure , Family Film , Short Film , Romantic drama , Animation , Musical , Science Fiction , Mystery , Romantic comedy\"\n",
    "np.savetxt(\"genre_lables.csv\", mat, delimiter=\",\",fmt='%d',header=labels)\n"
   ]
  },
  {
   "cell_type": "code",
   "execution_count": 7,
   "metadata": {
    "colab": {},
    "colab_type": "code",
    "id": "4wMajSknMC3W"
   },
   "outputs": [],
   "source": [
    "lables_dataFrame = pd.read_csv(r'genre_lables.csv')\n",
    "test_pd_dataFrame = pd.read_csv(r'test.csv')\n"
   ]
  },
  {
   "cell_type": "code",
   "execution_count": 8,
   "metadata": {
    "colab": {},
    "colab_type": "code",
    "id": "kF289bdZY58s"
   },
   "outputs": [],
   "source": [
    "lables_spark_dataFrame = spark.createDataFrame(lables_dataFrame)\n",
    "test_spark_dataFrame = spark.createDataFrame(test_pd_dataFrame)"
   ]
  },
  {
   "cell_type": "code",
   "execution_count": 9,
   "metadata": {
    "colab": {},
    "colab_type": "code",
    "id": "lZUNn84K21fS"
   },
   "outputs": [],
   "source": [
    "ddataFrame1 = data_spark_dataFrame.withColumn(\"row_id\", monotonically_increasing_id())\n",
    "ddataFrame2 = lables_spark_dataFrame.withColumn(\"row_id\", monotonically_increasing_id())\n",
    "ddataFrame3 = test_spark_dataFrame.withColumn(\"row_id\", monotonically_increasing_id())\n",
    "dataFrame = ddataFrame1.join(ddataFrame2, \"row_id\").drop(\"row_id\")\n",
    "test_dataFrame = ddataFrame3.join(ddataFrame2, \"row_id\").drop(\"row_id\")\n"
   ]
  },
  {
   "cell_type": "code",
   "execution_count": 10,
   "metadata": {
    "colab": {},
    "colab_type": "code",
    "id": "Z593o_L88AEK"
   },
   "outputs": [],
   "source": [
    "regTokenizer = RegexTokenizer(inputCol=\"plot\", outputCol=\"words\", pattern=\"\\\\W\")\n",
    "remover = StopWordsRemover(inputCol=\"words\", outputCol=\"filtered\")\n",
    "word2Vec = Word2Vec(vectorSize=100, minCount=1, inputCol=\"filtered\", outputCol=\"features\")\n",
    "pipeline = Pipeline(stages=[regTokenizer, remover,word2Vec])\n"
   ]
  },
  {
   "cell_type": "code",
   "execution_count": 11,
   "metadata": {
    "colab": {},
    "colab_type": "code",
    "id": "0MQm5Cc5Zwv2"
   },
   "outputs": [],
   "source": [
    "Mdl = pipeline.fit(dataFrame)\n",
    "dataset = Mdl.transform(dataFrame)\n",
    "\n",
    "Mdl2 = pipeline.fit(test_dataFrame)\n",
    "test_dataset = Mdl2.transform(test_dataFrame)"
   ]
  },
  {
   "cell_type": "code",
   "execution_count": 12,
   "metadata": {
    "colab": {},
    "colab_type": "code",
    "id": "bI_skgB9HaAT"
   },
   "outputs": [],
   "source": [
    "dfList = []\n",
    "labelColumns = lables_spark_dataFrame.columns\n",
    "logReg = LogisticRegression(featuresCol = 'features',maxIter=500)\n"
   ]
  },
  {
   "cell_type": "code",
   "execution_count": 13,
   "metadata": {
    "colab": {},
    "colab_type": "code",
    "id": "iB1nDxItaVs0"
   },
   "outputs": [
    {
     "name": "stdout",
     "output_type": "stream",
     "text": [
      "x\n",
      "x\n",
      "x\n",
      "x\n",
      "x\n",
      "x\n",
      "x\n",
      "x\n",
      "x\n",
      "x\n",
      "x\n",
      "x\n",
      "x\n",
      "x\n",
      "x\n",
      "x\n",
      "x\n",
      "x\n",
      "x\n",
      "x\n"
     ]
    }
   ],
   "source": [
    "for labelColumn in labelColumns:\n",
    "    logReg.setLabelCol(labelColumn)\n",
    "    logRegModel = logReg.fit(dataset)\n",
    "    pred = logRegModel.transform(test_dataset)\n",
    "    pred = pred.withColumn(\"prediction\",F.col(\"prediction\").cast(IntegerType()))\n",
    "    dfList.append(pred.select(\"movie_id\",\"prediction\"))\n",
    "    print(\"x\")"
   ]
  },
  {
   "cell_type": "code",
   "execution_count": 14,
   "metadata": {
    "colab": {},
    "colab_type": "code",
    "id": "6m2q85P2sqBl"
   },
   "outputs": [],
   "source": [
    "dataFrames_renamed = [dataFrame.selectExpr('movie_id', f'prediction as prediction_{i}') for i, dataFrame in enumerate(dfList)]\n",
    "temp_dataFrame = reduce(lambda x, y: x.join(y, ['movie_id'], how='full'), dataFrames_renamed)\n",
    "col_list = ['prediction_%d' % i for i in range(len(dfList))]\n",
    "temp_dataFrame = temp_dataFrame.withColumn('predictions',concat_ws(\" \",*col_list)).drop(*col_list).toPandas().to_csv(\"predictions_part3.csv\",index=False)"
   ]
  },
  {
   "cell_type": "code",
   "execution_count": null,
   "metadata": {
    "colab": {},
    "colab_type": "code",
    "id": "mFzpseUJ-WPQ"
   },
   "outputs": [],
   "source": []
  },
  {
   "cell_type": "code",
   "execution_count": null,
   "metadata": {
    "colab": {},
    "colab_type": "code",
    "id": "hjybH6101us_"
   },
   "outputs": [],
   "source": []
  }
 ],
 "metadata": {
  "colab": {
   "collapsed_sections": [],
   "name": "Part3.ipynb",
   "provenance": []
  },
  "kernelspec": {
   "display_name": "Python 3",
   "language": "python",
   "name": "python3"
  },
  "language_info": {
   "codemirror_mode": {
    "name": "ipython",
    "version": 3
   },
   "file_extension": ".py",
   "mimetype": "text/x-python",
   "name": "python",
   "nbconvert_exporter": "python",
   "pygments_lexer": "ipython3",
   "version": "3.6.7"
  }
 },
 "nbformat": 4,
 "nbformat_minor": 1
}
